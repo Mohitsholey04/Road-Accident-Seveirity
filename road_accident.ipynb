{
 "cells": [
  {
   "cell_type": "code",
   "execution_count": 5,
   "metadata": {},
   "outputs": [],
   "source": [
    "#importing the library\n",
    "import pandas as pd\n",
    "\n",
    "import numpy as np\n"
   ]
  },
  {
   "cell_type": "markdown",
   "metadata": {},
   "source": [
    "-------------------------- Reading the CSV file -----------------------------"
   ]
  },
  {
   "cell_type": "code",
   "execution_count": 8,
   "metadata": {},
   "outputs": [
    {
     "data": {
      "text/html": [
       "<div>\n",
       "<style scoped>\n",
       "    .dataframe tbody tr th:only-of-type {\n",
       "        vertical-align: middle;\n",
       "    }\n",
       "\n",
       "    .dataframe tbody tr th {\n",
       "        vertical-align: top;\n",
       "    }\n",
       "\n",
       "    .dataframe thead th {\n",
       "        text-align: right;\n",
       "    }\n",
       "</style>\n",
       "<table border=\"1\" class=\"dataframe\">\n",
       "  <thead>\n",
       "    <tr style=\"text-align: right;\">\n",
       "      <th></th>\n",
       "      <th>Age_band_of_driver</th>\n",
       "      <th>Sex_of_driver</th>\n",
       "      <th>Educational_level</th>\n",
       "      <th>Vehicle_driver_relation</th>\n",
       "      <th>Driving_experience</th>\n",
       "      <th>Lanes_or_Medians</th>\n",
       "      <th>Types_of_Junction</th>\n",
       "      <th>Road_surface_type</th>\n",
       "      <th>Light_conditions</th>\n",
       "      <th>Weather_conditions</th>\n",
       "      <th>Type_of_collision</th>\n",
       "      <th>Vehicle_movement</th>\n",
       "      <th>Pedestrian_movement</th>\n",
       "      <th>Cause_of_accident</th>\n",
       "      <th>Accident_severity</th>\n",
       "    </tr>\n",
       "  </thead>\n",
       "  <tbody>\n",
       "    <tr>\n",
       "      <th>0</th>\n",
       "      <td>18-30</td>\n",
       "      <td>Male</td>\n",
       "      <td>Above high school</td>\n",
       "      <td>Employee</td>\n",
       "      <td>1-2yr</td>\n",
       "      <td>Unknown</td>\n",
       "      <td>No junction</td>\n",
       "      <td>Asphalt roads</td>\n",
       "      <td>Daylight</td>\n",
       "      <td>Normal</td>\n",
       "      <td>Collision with roadside-parked vehicles</td>\n",
       "      <td>Going straight</td>\n",
       "      <td>Not a Pedestrian</td>\n",
       "      <td>Moving Backward</td>\n",
       "      <td>2</td>\n",
       "    </tr>\n",
       "    <tr>\n",
       "      <th>1</th>\n",
       "      <td>31-50</td>\n",
       "      <td>Male</td>\n",
       "      <td>Junior high school</td>\n",
       "      <td>Employee</td>\n",
       "      <td>Above 10yr</td>\n",
       "      <td>Undivided Two way</td>\n",
       "      <td>No junction</td>\n",
       "      <td>Asphalt roads</td>\n",
       "      <td>Daylight</td>\n",
       "      <td>Normal</td>\n",
       "      <td>Vehicle with vehicle collision</td>\n",
       "      <td>Going straight</td>\n",
       "      <td>Not a Pedestrian</td>\n",
       "      <td>Overtaking</td>\n",
       "      <td>2</td>\n",
       "    </tr>\n",
       "    <tr>\n",
       "      <th>2</th>\n",
       "      <td>18-30</td>\n",
       "      <td>Male</td>\n",
       "      <td>Junior high school</td>\n",
       "      <td>Employee</td>\n",
       "      <td>1-2yr</td>\n",
       "      <td>other</td>\n",
       "      <td>No junction</td>\n",
       "      <td>Asphalt roads</td>\n",
       "      <td>Daylight</td>\n",
       "      <td>Normal</td>\n",
       "      <td>Collision with roadside objects</td>\n",
       "      <td>Going straight</td>\n",
       "      <td>Not a Pedestrian</td>\n",
       "      <td>Changing lane to the left</td>\n",
       "      <td>1</td>\n",
       "    </tr>\n",
       "    <tr>\n",
       "      <th>3</th>\n",
       "      <td>18-30</td>\n",
       "      <td>Male</td>\n",
       "      <td>Junior high school</td>\n",
       "      <td>Employee</td>\n",
       "      <td>5-10yr</td>\n",
       "      <td>other</td>\n",
       "      <td>Y Shape</td>\n",
       "      <td>Earth roads</td>\n",
       "      <td>Darkness - lights lit</td>\n",
       "      <td>Normal</td>\n",
       "      <td>Vehicle with vehicle collision</td>\n",
       "      <td>Going straight</td>\n",
       "      <td>Not a Pedestrian</td>\n",
       "      <td>Changing lane to the right</td>\n",
       "      <td>2</td>\n",
       "    </tr>\n",
       "    <tr>\n",
       "      <th>4</th>\n",
       "      <td>18-30</td>\n",
       "      <td>Male</td>\n",
       "      <td>Junior high school</td>\n",
       "      <td>Employee</td>\n",
       "      <td>2-5yr</td>\n",
       "      <td>other</td>\n",
       "      <td>Y Shape</td>\n",
       "      <td>Asphalt roads</td>\n",
       "      <td>Darkness - lights lit</td>\n",
       "      <td>Normal</td>\n",
       "      <td>Vehicle with vehicle collision</td>\n",
       "      <td>Going straight</td>\n",
       "      <td>Not a Pedestrian</td>\n",
       "      <td>Overtaking</td>\n",
       "      <td>2</td>\n",
       "    </tr>\n",
       "  </tbody>\n",
       "</table>\n",
       "</div>"
      ],
      "text/plain": [
       "  Age_band_of_driver Sex_of_driver   Educational_level  \\\n",
       "0              18-30          Male   Above high school   \n",
       "1              31-50          Male  Junior high school   \n",
       "2              18-30          Male  Junior high school   \n",
       "3              18-30          Male  Junior high school   \n",
       "4              18-30          Male  Junior high school   \n",
       "\n",
       "  Vehicle_driver_relation Driving_experience   Lanes_or_Medians  \\\n",
       "0                Employee              1-2yr            Unknown   \n",
       "1                Employee         Above 10yr  Undivided Two way   \n",
       "2                Employee              1-2yr              other   \n",
       "3                Employee             5-10yr              other   \n",
       "4                Employee              2-5yr              other   \n",
       "\n",
       "  Types_of_Junction Road_surface_type       Light_conditions  \\\n",
       "0       No junction     Asphalt roads               Daylight   \n",
       "1       No junction     Asphalt roads               Daylight   \n",
       "2       No junction     Asphalt roads               Daylight   \n",
       "3           Y Shape       Earth roads  Darkness - lights lit   \n",
       "4           Y Shape     Asphalt roads  Darkness - lights lit   \n",
       "\n",
       "  Weather_conditions                        Type_of_collision  \\\n",
       "0             Normal  Collision with roadside-parked vehicles   \n",
       "1             Normal           Vehicle with vehicle collision   \n",
       "2             Normal          Collision with roadside objects   \n",
       "3             Normal           Vehicle with vehicle collision   \n",
       "4             Normal           Vehicle with vehicle collision   \n",
       "\n",
       "  Vehicle_movement Pedestrian_movement           Cause_of_accident  \\\n",
       "0   Going straight    Not a Pedestrian             Moving Backward   \n",
       "1   Going straight    Not a Pedestrian                  Overtaking   \n",
       "2   Going straight    Not a Pedestrian   Changing lane to the left   \n",
       "3   Going straight    Not a Pedestrian  Changing lane to the right   \n",
       "4   Going straight    Not a Pedestrian                  Overtaking   \n",
       "\n",
       "   Accident_severity  \n",
       "0                  2  \n",
       "1                  2  \n",
       "2                  1  \n",
       "3                  2  \n",
       "4                  2  "
      ]
     },
     "execution_count": 8,
     "metadata": {},
     "output_type": "execute_result"
    }
   ],
   "source": [
    "#reading the data\n",
    "df = pd.read_csv('accident.csv')\n",
    "\n",
    "df.head()\n"
   ]
  },
  {
   "cell_type": "code",
   "execution_count": 9,
   "metadata": {},
   "outputs": [
    {
     "data": {
      "text/plain": [
       "array(['No junction', 'Y Shape', 'Crossing', 'O Shape', 'Other',\n",
       "       'Unknown', 'T Shape', 'X Shape'], dtype=object)"
      ]
     },
     "execution_count": 9,
     "metadata": {},
     "output_type": "execute_result"
    }
   ],
   "source": [
    "df.tail()\n",
    "\n",
    "df.Types_of_Junction.unique()"
   ]
  },
  {
   "cell_type": "markdown",
   "metadata": {},
   "source": [
    "------------------------- Feature Engineering -------------------------"
   ]
  },
  {
   "cell_type": "code",
   "execution_count": 5,
   "metadata": {},
   "outputs": [
    {
     "data": {
      "text/html": [
       "<div>\n",
       "<style scoped>\n",
       "    .dataframe tbody tr th:only-of-type {\n",
       "        vertical-align: middle;\n",
       "    }\n",
       "\n",
       "    .dataframe tbody tr th {\n",
       "        vertical-align: top;\n",
       "    }\n",
       "\n",
       "    .dataframe thead th {\n",
       "        text-align: right;\n",
       "    }\n",
       "</style>\n",
       "<table border=\"1\" class=\"dataframe\">\n",
       "  <thead>\n",
       "    <tr style=\"text-align: right;\">\n",
       "      <th></th>\n",
       "      <th>Age_band_of_driver</th>\n",
       "      <th>Sex_of_driver</th>\n",
       "      <th>Educational_level</th>\n",
       "      <th>Vehicle_driver_relation</th>\n",
       "      <th>Driving_experience</th>\n",
       "      <th>Lanes_or_Medians</th>\n",
       "      <th>Types_of_Junction</th>\n",
       "      <th>Road_surface_type</th>\n",
       "      <th>Light_conditions</th>\n",
       "      <th>Weather_conditions</th>\n",
       "      <th>Type_of_collision</th>\n",
       "      <th>Vehicle_movement</th>\n",
       "      <th>Pedestrian_movement</th>\n",
       "      <th>Cause_of_accident</th>\n",
       "      <th>Accident_severity</th>\n",
       "    </tr>\n",
       "  </thead>\n",
       "  <tbody>\n",
       "    <tr>\n",
       "      <th>0</th>\n",
       "      <td>False</td>\n",
       "      <td>False</td>\n",
       "      <td>False</td>\n",
       "      <td>False</td>\n",
       "      <td>False</td>\n",
       "      <td>False</td>\n",
       "      <td>False</td>\n",
       "      <td>False</td>\n",
       "      <td>False</td>\n",
       "      <td>False</td>\n",
       "      <td>False</td>\n",
       "      <td>False</td>\n",
       "      <td>False</td>\n",
       "      <td>False</td>\n",
       "      <td>False</td>\n",
       "    </tr>\n",
       "    <tr>\n",
       "      <th>1</th>\n",
       "      <td>False</td>\n",
       "      <td>False</td>\n",
       "      <td>False</td>\n",
       "      <td>False</td>\n",
       "      <td>False</td>\n",
       "      <td>False</td>\n",
       "      <td>False</td>\n",
       "      <td>False</td>\n",
       "      <td>False</td>\n",
       "      <td>False</td>\n",
       "      <td>False</td>\n",
       "      <td>False</td>\n",
       "      <td>False</td>\n",
       "      <td>False</td>\n",
       "      <td>False</td>\n",
       "    </tr>\n",
       "    <tr>\n",
       "      <th>2</th>\n",
       "      <td>False</td>\n",
       "      <td>False</td>\n",
       "      <td>False</td>\n",
       "      <td>False</td>\n",
       "      <td>False</td>\n",
       "      <td>False</td>\n",
       "      <td>False</td>\n",
       "      <td>False</td>\n",
       "      <td>False</td>\n",
       "      <td>False</td>\n",
       "      <td>False</td>\n",
       "      <td>False</td>\n",
       "      <td>False</td>\n",
       "      <td>False</td>\n",
       "      <td>False</td>\n",
       "    </tr>\n",
       "    <tr>\n",
       "      <th>3</th>\n",
       "      <td>False</td>\n",
       "      <td>False</td>\n",
       "      <td>False</td>\n",
       "      <td>False</td>\n",
       "      <td>False</td>\n",
       "      <td>False</td>\n",
       "      <td>False</td>\n",
       "      <td>False</td>\n",
       "      <td>False</td>\n",
       "      <td>False</td>\n",
       "      <td>False</td>\n",
       "      <td>False</td>\n",
       "      <td>False</td>\n",
       "      <td>False</td>\n",
       "      <td>False</td>\n",
       "    </tr>\n",
       "    <tr>\n",
       "      <th>4</th>\n",
       "      <td>False</td>\n",
       "      <td>False</td>\n",
       "      <td>False</td>\n",
       "      <td>False</td>\n",
       "      <td>False</td>\n",
       "      <td>False</td>\n",
       "      <td>False</td>\n",
       "      <td>False</td>\n",
       "      <td>False</td>\n",
       "      <td>False</td>\n",
       "      <td>False</td>\n",
       "      <td>False</td>\n",
       "      <td>False</td>\n",
       "      <td>False</td>\n",
       "      <td>False</td>\n",
       "    </tr>\n",
       "    <tr>\n",
       "      <th>...</th>\n",
       "      <td>...</td>\n",
       "      <td>...</td>\n",
       "      <td>...</td>\n",
       "      <td>...</td>\n",
       "      <td>...</td>\n",
       "      <td>...</td>\n",
       "      <td>...</td>\n",
       "      <td>...</td>\n",
       "      <td>...</td>\n",
       "      <td>...</td>\n",
       "      <td>...</td>\n",
       "      <td>...</td>\n",
       "      <td>...</td>\n",
       "      <td>...</td>\n",
       "      <td>...</td>\n",
       "    </tr>\n",
       "    <tr>\n",
       "      <th>12311</th>\n",
       "      <td>False</td>\n",
       "      <td>False</td>\n",
       "      <td>False</td>\n",
       "      <td>False</td>\n",
       "      <td>False</td>\n",
       "      <td>False</td>\n",
       "      <td>False</td>\n",
       "      <td>False</td>\n",
       "      <td>False</td>\n",
       "      <td>False</td>\n",
       "      <td>False</td>\n",
       "      <td>False</td>\n",
       "      <td>False</td>\n",
       "      <td>False</td>\n",
       "      <td>False</td>\n",
       "    </tr>\n",
       "    <tr>\n",
       "      <th>12312</th>\n",
       "      <td>False</td>\n",
       "      <td>False</td>\n",
       "      <td>False</td>\n",
       "      <td>False</td>\n",
       "      <td>False</td>\n",
       "      <td>False</td>\n",
       "      <td>False</td>\n",
       "      <td>False</td>\n",
       "      <td>False</td>\n",
       "      <td>False</td>\n",
       "      <td>False</td>\n",
       "      <td>False</td>\n",
       "      <td>False</td>\n",
       "      <td>False</td>\n",
       "      <td>False</td>\n",
       "    </tr>\n",
       "    <tr>\n",
       "      <th>12313</th>\n",
       "      <td>False</td>\n",
       "      <td>False</td>\n",
       "      <td>False</td>\n",
       "      <td>False</td>\n",
       "      <td>False</td>\n",
       "      <td>False</td>\n",
       "      <td>False</td>\n",
       "      <td>False</td>\n",
       "      <td>False</td>\n",
       "      <td>False</td>\n",
       "      <td>False</td>\n",
       "      <td>False</td>\n",
       "      <td>False</td>\n",
       "      <td>False</td>\n",
       "      <td>False</td>\n",
       "    </tr>\n",
       "    <tr>\n",
       "      <th>12314</th>\n",
       "      <td>False</td>\n",
       "      <td>False</td>\n",
       "      <td>False</td>\n",
       "      <td>False</td>\n",
       "      <td>False</td>\n",
       "      <td>False</td>\n",
       "      <td>False</td>\n",
       "      <td>False</td>\n",
       "      <td>False</td>\n",
       "      <td>False</td>\n",
       "      <td>False</td>\n",
       "      <td>False</td>\n",
       "      <td>False</td>\n",
       "      <td>False</td>\n",
       "      <td>False</td>\n",
       "    </tr>\n",
       "    <tr>\n",
       "      <th>12315</th>\n",
       "      <td>False</td>\n",
       "      <td>False</td>\n",
       "      <td>False</td>\n",
       "      <td>False</td>\n",
       "      <td>False</td>\n",
       "      <td>False</td>\n",
       "      <td>False</td>\n",
       "      <td>False</td>\n",
       "      <td>False</td>\n",
       "      <td>False</td>\n",
       "      <td>False</td>\n",
       "      <td>False</td>\n",
       "      <td>False</td>\n",
       "      <td>False</td>\n",
       "      <td>False</td>\n",
       "    </tr>\n",
       "  </tbody>\n",
       "</table>\n",
       "<p>12316 rows × 15 columns</p>\n",
       "</div>"
      ],
      "text/plain": [
       "       Age_band_of_driver  Sex_of_driver  Educational_level  \\\n",
       "0                   False          False              False   \n",
       "1                   False          False              False   \n",
       "2                   False          False              False   \n",
       "3                   False          False              False   \n",
       "4                   False          False              False   \n",
       "...                   ...            ...                ...   \n",
       "12311               False          False              False   \n",
       "12312               False          False              False   \n",
       "12313               False          False              False   \n",
       "12314               False          False              False   \n",
       "12315               False          False              False   \n",
       "\n",
       "       Vehicle_driver_relation  Driving_experience  Lanes_or_Medians  \\\n",
       "0                        False               False             False   \n",
       "1                        False               False             False   \n",
       "2                        False               False             False   \n",
       "3                        False               False             False   \n",
       "4                        False               False             False   \n",
       "...                        ...                 ...               ...   \n",
       "12311                    False               False             False   \n",
       "12312                    False               False             False   \n",
       "12313                    False               False             False   \n",
       "12314                    False               False             False   \n",
       "12315                    False               False             False   \n",
       "\n",
       "       Types_of_Junction  Road_surface_type  Light_conditions  \\\n",
       "0                  False              False             False   \n",
       "1                  False              False             False   \n",
       "2                  False              False             False   \n",
       "3                  False              False             False   \n",
       "4                  False              False             False   \n",
       "...                  ...                ...               ...   \n",
       "12311              False              False             False   \n",
       "12312              False              False             False   \n",
       "12313              False              False             False   \n",
       "12314              False              False             False   \n",
       "12315              False              False             False   \n",
       "\n",
       "       Weather_conditions  Type_of_collision  Vehicle_movement  \\\n",
       "0                   False              False             False   \n",
       "1                   False              False             False   \n",
       "2                   False              False             False   \n",
       "3                   False              False             False   \n",
       "4                   False              False             False   \n",
       "...                   ...                ...               ...   \n",
       "12311               False              False             False   \n",
       "12312               False              False             False   \n",
       "12313               False              False             False   \n",
       "12314               False              False             False   \n",
       "12315               False              False             False   \n",
       "\n",
       "       Pedestrian_movement  Cause_of_accident  Accident_severity  \n",
       "0                    False              False              False  \n",
       "1                    False              False              False  \n",
       "2                    False              False              False  \n",
       "3                    False              False              False  \n",
       "4                    False              False              False  \n",
       "...                    ...                ...                ...  \n",
       "12311                False              False              False  \n",
       "12312                False              False              False  \n",
       "12313                False              False              False  \n",
       "12314                False              False              False  \n",
       "12315                False              False              False  \n",
       "\n",
       "[12316 rows x 15 columns]"
      ]
     },
     "execution_count": 5,
     "metadata": {},
     "output_type": "execute_result"
    }
   ],
   "source": [
    "\n",
    "# Checking the null values.\n",
    "df.isnull()"
   ]
  },
  {
   "cell_type": "code",
   "execution_count": 6,
   "metadata": {},
   "outputs": [
    {
     "data": {
      "text/plain": [
       "Age_band_of_driver         0\n",
       "Sex_of_driver              0\n",
       "Educational_level          0\n",
       "Vehicle_driver_relation    0\n",
       "Driving_experience         0\n",
       "Lanes_or_Medians           0\n",
       "Types_of_Junction          0\n",
       "Road_surface_type          0\n",
       "Light_conditions           0\n",
       "Weather_conditions         0\n",
       "Type_of_collision          0\n",
       "Vehicle_movement           0\n",
       "Pedestrian_movement        0\n",
       "Cause_of_accident          0\n",
       "Accident_severity          0\n",
       "dtype: int64"
      ]
     },
     "execution_count": 6,
     "metadata": {},
     "output_type": "execute_result"
    }
   ],
   "source": [
    "df.isnull().sum()"
   ]
  },
  {
   "cell_type": "code",
   "execution_count": 7,
   "metadata": {},
   "outputs": [],
   "source": [
    "#  fill the missing value with previous one\n",
    "df.fillna(method='pad')\n",
    "\n",
    "#  fill the missing value with next one\n",
    "df.fillna(method='bfill' , inplace = True)"
   ]
  },
  {
   "cell_type": "code",
   "execution_count": 8,
   "metadata": {},
   "outputs": [
    {
     "data": {
      "text/plain": [
       "(12316, 15)"
      ]
     },
     "execution_count": 8,
     "metadata": {},
     "output_type": "execute_result"
    }
   ],
   "source": [
    "df.shape"
   ]
  },
  {
   "cell_type": "code",
   "execution_count": 9,
   "metadata": {},
   "outputs": [
    {
     "data": {
      "text/plain": [
       "Index(['Age_band_of_driver', 'Sex_of_driver', 'Educational_level',\n",
       "       'Vehicle_driver_relation', 'Driving_experience', 'Lanes_or_Medians',\n",
       "       'Types_of_Junction', 'Road_surface_type', 'Light_conditions',\n",
       "       'Weather_conditions', 'Type_of_collision', 'Vehicle_movement',\n",
       "       'Pedestrian_movement', 'Cause_of_accident', 'Accident_severity'],\n",
       "      dtype='object')"
      ]
     },
     "execution_count": 9,
     "metadata": {},
     "output_type": "execute_result"
    }
   ],
   "source": [
    "df.columns"
   ]
  },
  {
   "cell_type": "code",
   "execution_count": 10,
   "metadata": {},
   "outputs": [
    {
     "name": "stdout",
     "output_type": "stream",
     "text": [
      "<class 'pandas.core.frame.DataFrame'>\n",
      "RangeIndex: 12316 entries, 0 to 12315\n",
      "Data columns (total 15 columns):\n",
      " #   Column                   Non-Null Count  Dtype \n",
      "---  ------                   --------------  ----- \n",
      " 0   Age_band_of_driver       12316 non-null  object\n",
      " 1   Sex_of_driver            12316 non-null  object\n",
      " 2   Educational_level        12316 non-null  object\n",
      " 3   Vehicle_driver_relation  12316 non-null  object\n",
      " 4   Driving_experience       12316 non-null  object\n",
      " 5   Lanes_or_Medians         12316 non-null  object\n",
      " 6   Types_of_Junction        12316 non-null  object\n",
      " 7   Road_surface_type        12316 non-null  object\n",
      " 8   Light_conditions         12316 non-null  object\n",
      " 9   Weather_conditions       12316 non-null  object\n",
      " 10  Type_of_collision        12316 non-null  object\n",
      " 11  Vehicle_movement         12316 non-null  object\n",
      " 12  Pedestrian_movement      12316 non-null  object\n",
      " 13  Cause_of_accident        12316 non-null  object\n",
      " 14  Accident_severity        12316 non-null  int64 \n",
      "dtypes: int64(1), object(14)\n",
      "memory usage: 1.4+ MB\n"
     ]
    }
   ],
   "source": [
    "df.info()"
   ]
  },
  {
   "cell_type": "code",
   "execution_count": 11,
   "metadata": {},
   "outputs": [
    {
     "data": {
      "text/html": [
       "<div>\n",
       "<style scoped>\n",
       "    .dataframe tbody tr th:only-of-type {\n",
       "        vertical-align: middle;\n",
       "    }\n",
       "\n",
       "    .dataframe tbody tr th {\n",
       "        vertical-align: top;\n",
       "    }\n",
       "\n",
       "    .dataframe thead th {\n",
       "        text-align: right;\n",
       "    }\n",
       "</style>\n",
       "<table border=\"1\" class=\"dataframe\">\n",
       "  <thead>\n",
       "    <tr style=\"text-align: right;\">\n",
       "      <th></th>\n",
       "      <th>Accident_severity</th>\n",
       "    </tr>\n",
       "  </thead>\n",
       "  <tbody>\n",
       "    <tr>\n",
       "      <th>count</th>\n",
       "      <td>12316.000000</td>\n",
       "    </tr>\n",
       "    <tr>\n",
       "      <th>mean</th>\n",
       "      <td>1.832819</td>\n",
       "    </tr>\n",
       "    <tr>\n",
       "      <th>std</th>\n",
       "      <td>0.406082</td>\n",
       "    </tr>\n",
       "    <tr>\n",
       "      <th>min</th>\n",
       "      <td>0.000000</td>\n",
       "    </tr>\n",
       "    <tr>\n",
       "      <th>25%</th>\n",
       "      <td>2.000000</td>\n",
       "    </tr>\n",
       "    <tr>\n",
       "      <th>50%</th>\n",
       "      <td>2.000000</td>\n",
       "    </tr>\n",
       "    <tr>\n",
       "      <th>75%</th>\n",
       "      <td>2.000000</td>\n",
       "    </tr>\n",
       "    <tr>\n",
       "      <th>max</th>\n",
       "      <td>2.000000</td>\n",
       "    </tr>\n",
       "  </tbody>\n",
       "</table>\n",
       "</div>"
      ],
      "text/plain": [
       "       Accident_severity\n",
       "count       12316.000000\n",
       "mean            1.832819\n",
       "std             0.406082\n",
       "min             0.000000\n",
       "25%             2.000000\n",
       "50%             2.000000\n",
       "75%             2.000000\n",
       "max             2.000000"
      ]
     },
     "execution_count": 11,
     "metadata": {},
     "output_type": "execute_result"
    }
   ],
   "source": [
    "df.describe()"
   ]
  },
  {
   "cell_type": "code",
   "execution_count": 12,
   "metadata": {},
   "outputs": [
    {
     "name": "stdout",
     "output_type": "stream",
     "text": [
      "Column name :  Age_band_of_driver\n",
      "18-30       4271\n",
      "31-50       4087\n",
      "Over 51     1585\n",
      "Unknown     1548\n",
      "Under 18     825\n",
      "Name: Age_band_of_driver, dtype: int64\n",
      "\n",
      "\n",
      "\n",
      "Column name :  Sex_of_driver\n",
      "Male       11437\n",
      "Female       701\n",
      "Unknown      178\n",
      "Name: Sex_of_driver, dtype: int64\n",
      "\n",
      "\n",
      "\n",
      "Column name :  Educational_level\n",
      "Junior high school    7619\n",
      "Elementary school     2163\n",
      "High school           1110\n",
      "Unknown                841\n",
      "Above high school      362\n",
      "Writing & reading      176\n",
      "Illiterate              45\n",
      "Name: Educational_level, dtype: int64\n",
      "\n",
      "\n",
      "\n",
      "Column name :  Vehicle_driver_relation\n",
      "Employee    9627\n",
      "Owner       1973\n",
      "Unknown      593\n",
      "Other        123\n",
      "Name: Vehicle_driver_relation, dtype: int64\n",
      "\n",
      "\n",
      "\n",
      "Column name :  Driving_experience\n",
      "5-10yr        3363\n",
      "2-5yr         2613\n",
      "Above 10yr    2262\n",
      "1-2yr         1756\n",
      "Below 1yr     1342\n",
      "Unknown        829\n",
      "No Licence     118\n",
      "unknown         33\n",
      "Name: Driving_experience, dtype: int64\n",
      "\n",
      "\n",
      "\n",
      "Column name :  Lanes_or_Medians\n",
      "Two-way (divided with broken lines road marking)    4411\n",
      "Undivided Two way                                   3796\n",
      "other                                               1660\n",
      "Double carriageway (median)                         1020\n",
      "One way                                              845\n",
      "Unknown                                              442\n",
      "Two-way (divided with solid lines road marking)      142\n",
      "Name: Lanes_or_Medians, dtype: int64\n",
      "\n",
      "\n",
      "\n",
      "Column name :  Types_of_Junction\n",
      "Y Shape        4543\n",
      "No junction    3837\n",
      "Crossing       2177\n",
      "Unknown        1078\n",
      "Other           445\n",
      "O Shape         164\n",
      "T Shape          60\n",
      "X Shape          12\n",
      "Name: Types_of_Junction, dtype: int64\n",
      "\n",
      "\n",
      "\n",
      "Column name :  Road_surface_type\n",
      "Asphalt roads                       11296\n",
      "Earth roads                           358\n",
      "Gravel roads                          242\n",
      "Unknown                               172\n",
      "Other                                 167\n",
      "Asphalt roads with some distress       81\n",
      "Name: Road_surface_type, dtype: int64\n",
      "\n",
      "\n",
      "\n",
      "Column name :  Light_conditions\n",
      "Daylight                   8798\n",
      "Darkness - lights lit      3286\n",
      "Darkness - no lighting      192\n",
      "Darkness - lights unlit      40\n",
      "Name: Light_conditions, dtype: int64\n",
      "\n",
      "\n",
      "\n",
      "Column name :  Weather_conditions\n",
      "Normal               10063\n",
      "Raining               1331\n",
      "Other                  296\n",
      "Unknown                292\n",
      "Cloudy                 125\n",
      "Windy                   98\n",
      "Snow                    61\n",
      "Raining and Windy       40\n",
      "Fog or mist             10\n",
      "Name: Weather_conditions, dtype: int64\n",
      "\n",
      "\n",
      "\n",
      "Column name :  Type_of_collision\n",
      "Vehicle with vehicle collision             8774\n",
      "Collision with roadside objects            1786\n",
      "Collision with pedestrians                  896\n",
      "Rollover                                    397\n",
      "Collision with animals                      171\n",
      "Unknown                                     169\n",
      "Collision with roadside-parked vehicles      54\n",
      "Fall from vehicles                           34\n",
      "Other                                        26\n",
      "With Train                                    9\n",
      "Name: Type_of_collision, dtype: int64\n",
      "\n",
      "\n",
      "\n",
      "Column name :  Vehicle_movement\n",
      "Going straight         8158\n",
      "Moving Backward         985\n",
      "Other                   937\n",
      "Reversing               563\n",
      "Turnover                489\n",
      "Unknown                 396\n",
      "Getting off             339\n",
      "Entering a junction     193\n",
      "Overtaking               96\n",
      "Stopping                 61\n",
      "U-Turn                   50\n",
      "Waiting to go            39\n",
      "Parked                   10\n",
      "Name: Vehicle_movement, dtype: int64\n",
      "\n",
      "\n",
      "\n",
      "Column name :  Pedestrian_movement\n",
      "Not a Pedestrian                                                                                                                         11390\n",
      "Crossing from nearside - masked by parked or statioNot a Pedestrianry vehicle                                                              337\n",
      "Unknown or other                                                                                                                           293\n",
      "Crossing from driver's nearside                                                                                                            140\n",
      "Crossing from offside - masked by  parked or statioNot a Pedestrianry vehicle                                                               72\n",
      "In carriageway, statioNot a Pedestrianry - not crossing  (standing or playing)                                                              46\n",
      "Walking along in carriageway, back to traffic                                                                                               18\n",
      "In carriageway, statioNot a Pedestrianry - not crossing  (standing or playing) - masked by parked or statioNot a Pedestrianry vehicle       13\n",
      "Walking along in carriageway, facing traffic                                                                                                 7\n",
      "Name: Pedestrian_movement, dtype: int64\n",
      "\n",
      "\n",
      "\n",
      "Column name :  Cause_of_accident\n",
      "No distancing                           2263\n",
      "Changing lane to the right              1808\n",
      "Changing lane to the left               1473\n",
      "Driving carelessly                      1402\n",
      "No priority to vehicle                  1207\n",
      "Moving Backward                         1137\n",
      "No priority to pedestrian                721\n",
      "Other                                    456\n",
      "Overtaking                               430\n",
      "Driving under the influence of drugs     340\n",
      "Driving to the left                      284\n",
      "Getting off the vehicle improperly       197\n",
      "Driving at high speed                    174\n",
      "Overturning                              149\n",
      "Turnover                                  78\n",
      "Overspeed                                 61\n",
      "Overloading                               59\n",
      "Drunk driving                             27\n",
      "Unknown                                   25\n",
      "Improper parking                          25\n",
      "Name: Cause_of_accident, dtype: int64\n",
      "\n",
      "\n",
      "\n",
      "Column name :  Accident_severity\n",
      "2    10415\n",
      "1     1743\n",
      "0      158\n",
      "Name: Accident_severity, dtype: int64\n",
      "\n",
      "\n",
      "\n"
     ]
    }
   ],
   "source": [
    "\n",
    "lst = ['Age_band_of_driver' , 'Sex_of_driver' , 'Educational_level' , 'Vehicle_driver_relation' , 'Driving_experience' , 'Lanes_or_Medians' , 'Types_of_Junction' , 'Road_surface_type' , 'Light_conditions' , 'Weather_conditions' , 'Type_of_collision' , 'Vehicle_movement' , 'Pedestrian_movement' , 'Cause_of_accident' , 'Accident_severity']\n",
    "\n",
    "for col in lst:\n",
    "    print(\"Column name : \", col)\n",
    "    print(df[col].value_counts())\n",
    "    print(\"\\n\\n\")\n",
    "\n"
   ]
  },
  {
   "cell_type": "markdown",
   "metadata": {},
   "source": [
    "------------------------------------ Descriptive Analysis ----------------------------------------"
   ]
  },
  {
   "cell_type": "code",
   "execution_count": 13,
   "metadata": {},
   "outputs": [],
   "source": [
    "import matplotlib.pyplot as plt\n"
   ]
  },
  {
   "cell_type": "code",
   "execution_count": 14,
   "metadata": {},
   "outputs": [
    {
     "data": {
      "image/png": "[encoded data removed]",
      "text/plain": [
       "<Figure size 432x288 with 1 Axes>"
      ]
     },
     "metadata": {},
     "output_type": "display_data"
    }
   ],
   "source": [
    "# Out of the total drivers how many are male and female.\n",
    "\n",
    "\n",
    "Total = df['Sex_of_driver'].count()\n",
    "\n",
    "male = df[df['Sex_of_driver'] == 'Male']['Sex_of_driver'].count()\n",
    "\n",
    "female = df[df['Sex_of_driver'] == 'Female']['Sex_of_driver'].count()\n",
    "\n",
    "others = df[df['Sex_of_driver'] == 'Unknown']['Sex_of_driver'].count()\n",
    "\n",
    "lst = [(male*100)/Total , (female*100)/Total , (others*100)/Total]\n",
    "\n",
    "driver_type = ['Male driver' , 'Female driver' , 'Others']\n",
    "\n",
    "plt.pie(lst , labels = driver_type ,autopct=\"%.1f%%\" , textprops=dict(color=\"white\"))\n",
    "plt.title(\"Male drivers and Female drivers\" , color = \"white\")\n",
    "plt.legend()\n",
    "plt.show()\n",
    "\n",
    "\n",
    "# From the below graph we get to know that their are more male drivers as compare to the female drivers"
   ]
  },
  {
   "cell_type": "code",
   "execution_count": 15,
   "metadata": {},
   "outputs": [
    {
     "data": {
      "image/png": "[encoded data removed]",
      "text/plain": [
       "<Figure size 1008x504 with 1 Axes>"
      ]
     },
     "metadata": {},
     "output_type": "display_data"
    }
   ],
   "source": [
    "\n",
    "# Checking what are the frequent ages which faces most of the accidents\n",
    "\n",
    "Total = df['Age_band_of_driver'].count()\n",
    "\n",
    "a18_30 = df[df['Age_band_of_driver'] == '18-30']['Age_band_of_driver'].count()\n",
    "\n",
    "a31_50 = df[df['Age_band_of_driver'] == '31-50']['Age_band_of_driver'].count()\n",
    "\n",
    "Under_18 = df[df['Age_band_of_driver'] == 'Under_18']['Age_band_of_driver'].count()\n",
    "\n",
    "Over_51 = df[df['Age_band_of_driver'] == 'Over_51']['Age_band_of_driver'].count()\n",
    "\n",
    "Unknown = df[df['Age_band_of_driver'] == 'Unknown']['Age_band_of_driver'].count()\n",
    "\n",
    "lst = [(a18_30*100)/Total , (a31_50*100)/Total , ((Under_18)*100)/Total, ((Over_51)*100)/Total , (Unknown*100)/Total]\n",
    "\n",
    "age_type = ['18-30' , '31-50' , 'Under 18' , 'Over 51' , 'Unknown']\n",
    "\n",
    "plt.figure(figsize = (14 , 7))\n",
    "\n",
    "plt.pie(lst , labels = age_type ,autopct=\"%.1f%%\" , textprops=dict(color=\"white\"))\n",
    "plt.title(\"Accident Most Frequent Ages\" , color = \"white\")\n",
    "plt.legend()\n",
    "plt.show()\n",
    "\n",
    "\n",
    "# From the below graph we get to know that their are more male drivers as compare to the female drivers"
   ]
  },
  {
   "cell_type": "code",
   "execution_count": 16,
   "metadata": {},
   "outputs": [
    {
     "data": {
      "image/png": "[encoded data removed]",
      "text/plain": [
       "<Figure size 1224x504 with 1 Axes>"
      ]
     },
     "metadata": {},
     "output_type": "display_data"
    }
   ],
   "source": [
    "# 'Above high school', 'Junior high school', 'Unknown',\n",
    "    #    'Elementary school', 'High school', 'Illiterate',\n",
    "    #    'Writing & reading'\n",
    "\n",
    "\n",
    "\n",
    "# Checking what are the frequent ages which faces most of the accidents\n",
    "\n",
    "Total = df['Educational_level'].count()\n",
    "\n",
    "Above_high_school = df[df['Educational_level'] == 'Above high school']['Educational_level'].count()\n",
    "\n",
    "Junior_high_school = df[df['Educational_level'] == 'Junior high school']['Educational_level'].count()\n",
    "\n",
    "Elementary_school = df[df['Educational_level'] == 'Elementary school']['Educational_level'].count()\n",
    "\n",
    "High_school = df[df['Educational_level'] == 'High school']['Educational_level'].count()\n",
    "\n",
    "Illiterate = df[df['Educational_level'] == 'Illiterate']['Educational_level'].count()\n",
    "\n",
    "Writing_reading = df[df['Educational_level'] == 'Writing & reading']['Educational_level'].count()\n",
    "\n",
    "Unknown = df[df['Educational_level'] == 'Unknown']['Educational_level'].count()\n",
    "\n",
    "\n",
    "lst = [(Above_high_school*100)/Total , (Junior_high_school*100)/Total , (Elementary_school *100)/Total, (High_school*100)/Total , (Illiterate*100)/Total , (Writing_reading*100)/Total , (Unknown*100)/Total]\n",
    "\n",
    "Qualification_type = ['Above high school' , 'Junior high school' , 'Elementary school' , 'High school' , 'Illiterate' , 'Writing & Reading' , 'Unknown']\n",
    "\n",
    "myexplode = [0 , 0 , 0 , 0 , 0 , 0.5 , 0]\n",
    "\n",
    "plt.figure(figsize = (17 , 7))\n",
    "\n",
    "plt.pie(lst , labels = Qualification_type ,autopct=\"%.1f%%\" , textprops=dict(color=\"white\") , explode=myexplode)\n",
    "plt.title(\"Accidental Person Qualifications\" , color = \"white\")\n",
    "plt.legend()\n",
    "plt.show()\n",
    "\n",
    "\n",
    "# From the below graph we get to know that their are more male drivers as compare to the female drivers\n",
    "    "
   ]
  },
  {
   "cell_type": "code",
   "execution_count": 17,
   "metadata": {},
   "outputs": [
    {
     "data": {
      "image/png": "[encoded data removed]",
      "text/plain": [
       "<Figure size 720x360 with 1 Axes>"
      ]
     },
     "metadata": {},
     "output_type": "display_data"
    }
   ],
   "source": [
    "df.Vehicle_driver_relation.unique()\n",
    "\n",
    "\n",
    "Total = df['Vehicle_driver_relation'].count()\n",
    "\n",
    "Employee = df[df['Vehicle_driver_relation'] == 'Employee']['Vehicle_driver_relation'].count()\n",
    "\n",
    "Owner = df[df['Vehicle_driver_relation'] == 'Owner']['Vehicle_driver_relation'].count()\n",
    "\n",
    "Other = df[df['Vehicle_driver_relation'] == 'Other']['Vehicle_driver_relation'].count()\n",
    "\n",
    "Unknown = df[df['Vehicle_driver_relation'] == 'Unknown']['Vehicle_driver_relation'].count()\n",
    "\n",
    "\n",
    "lst = [(Employee*100)/Total , (Owner*100)/Total , (Other*100)/Total, (Unknown*100)/Total]\n",
    "\n",
    "driver_type = ['Employee' , 'Owner' , 'Other' , 'Unknown']\n",
    "\n",
    "plt.figure(figsize = (10 , 5))\n",
    "\n",
    "plt.pie(lst , labels = driver_type ,autopct=\"%.1f%%\" , textprops=dict(color=\"white\"))\n",
    "plt.title(\"Vehicle driver relation\" , color = \"white\")\n",
    "plt.legend()\n",
    "plt.show()\n",
    "\n"
   ]
  },
  {
   "cell_type": "code",
   "execution_count": 18,
   "metadata": {},
   "outputs": [
    {
     "data": {
      "image/png": "[encoded data removed]",
      "text/plain": [
       "<Figure size 1008x504 with 1 Axes>"
      ]
     },
     "metadata": {},
     "output_type": "display_data"
    }
   ],
   "source": [
    "df.Light_conditions.unique()\n",
    "\n",
    "\n",
    "\n",
    "Total = df['Light_conditions'].count()\n",
    "\n",
    "DayLight = df[df['Light_conditions'] == 'Daylight']['Light_conditions'].count()\n",
    "\n",
    "Darkness_lights_lit = df[df['Light_conditions'] == 'Darkness - lights lit']['Light_conditions'].count()\n",
    "\n",
    "Darkness_no_lighting = df[df['Light_conditions'] == 'Darkness - no lighting']['Light_conditions'].count()\n",
    "\n",
    "Darkness_lights_unlit = df[df['Light_conditions'] == 'Darkness - lights unlit']['Light_conditions'].count()\n",
    "\n",
    "\n",
    "lst = [(DayLight*100)/Total , (Darkness_lights_lit*100)/Total , (Darkness_no_lighting*100)/Total, (Darkness_lights_unlit*100)/Total]\n",
    "\n",
    "light_type = ['Daylight' , 'Darkness - light lit' , 'Darkness - no lightning' , 'Darkness - lights unlit']\n",
    "\n",
    "exploder = [0 , 0, 0.1 , 0]\n",
    "\n",
    "plt.figure(figsize = (14 , 7))\n",
    "\n",
    "plt.pie(lst , labels = light_type ,autopct=\"%.1f%%\" , textprops=dict(color=\"white\") , explode=exploder)\n",
    "plt.title(\"Light Conditions While Accident\" , color = \"white\")\n",
    "plt.legend()\n",
    "plt.show()\n",
    "\n"
   ]
  },
  {
   "cell_type": "code",
   "execution_count": 19,
   "metadata": {},
   "outputs": [
    {
     "data": {
      "image/png": "[encoded data removed]",
      "text/plain": [
       "<Figure size 1008x504 with 1 Axes>"
      ]
     },
     "metadata": {},
     "output_type": "display_data"
    }
   ],
   "source": [
    "plt.figure(figsize = (14 , 7))\n",
    "\n",
    "Total = df['Accident_severity'].count()\n",
    "\n",
    "fatal_injury = df[df['Accident_severity'] == 0]['Light_conditions'].count()\n",
    "\n",
    "slight_injury = df[df['Accident_severity'] == 2]['Accident_severity'].count()\n",
    "\n",
    "serious_injury = df[df['Accident_severity'] == 1]['Accident_severity'].count()\n",
    "\n",
    "\n",
    "lst = [(fatal_injury*100)/Total , (slight_injury*100)/Total , (serious_injury*100)/Total]\n",
    "\n",
    "\n",
    "injury_type = ['Fatal injury' , 'Slight injury' , 'Serious injury']\n",
    "\n",
    "exploder = [0 , 0 , 0.1]\n",
    "\n",
    "plt.pie(lst , labels = injury_type , autopct='%1.2f%%' , shadow=True , textprops=dict(color=\"white\") , explode=exploder)\n",
    "plt.title(\"Composition of Accident Severity\" , color = \"white\")\n",
    "plt.legend()\n",
    "plt.show()\n",
    "\n",
    "\n"
   ]
  },
  {
   "cell_type": "code",
   "execution_count": 20,
   "metadata": {},
   "outputs": [
    {
     "data": {
      "text/plain": [
       "Male       11437\n",
       "Female       701\n",
       "Unknown      178\n",
       "Name: Sex_of_driver, dtype: int64"
      ]
     },
     "execution_count": 20,
     "metadata": {},
     "output_type": "execute_result"
    }
   ],
   "source": [
    "df.Sex_of_driver.value_counts()"
   ]
  },
  {
   "cell_type": "code",
   "execution_count": 21,
   "metadata": {},
   "outputs": [
    {
     "data": {
      "image/png": "[encoded data removed]",
      "text/plain": [
       "<Figure size 720x432 with 1 Axes>"
      ]
     },
     "metadata": {
      "needs_background": "light"
     },
     "output_type": "display_data"
    }
   ],
   "source": [
    "x = ['Male' , 'Female' , 'Unknown']\n",
    "y = [11437 , 701 , 178]\n",
    "\n",
    "plt_1 = plt.figure(figsize= (10,6))\n",
    "\n",
    "plt.bar(x , y)\n",
    "plt.show()"
   ]
  },
  {
   "cell_type": "code",
   "execution_count": 22,
   "metadata": {},
   "outputs": [
    {
     "data": {
      "text/plain": [
       "<AxesSubplot:xlabel='Driving_experience', ylabel='count'>"
      ]
     },
     "execution_count": 22,
     "metadata": {},
     "output_type": "execute_result"
    },
    {
     "data": {
      "image/png": "[encoded data removed]",
      "text/plain": [
       "<Figure size 864x432 with 1 Axes>"
      ]
     },
     "metadata": {
      "needs_background": "light"
     },
     "output_type": "display_data"
    }
   ],
   "source": [
    "import seaborn as sns\n",
    "\n",
    "plt_1 = plt.figure(figsize= (12,6))\n",
    "sns.countplot(x = df['Driving_experience'] )\n"
   ]
  },
  {
   "cell_type": "code",
   "execution_count": 23,
   "metadata": {},
   "outputs": [
    {
     "data": {
      "text/plain": [
       "<AxesSubplot:xlabel='Educational_level', ylabel='count'>"
      ]
     },
     "execution_count": 23,
     "metadata": {},
     "output_type": "execute_result"
    },
    {
     "data": {
      "image/png": "[encoded data removed]",
      "text/plain": [
       "<Figure size 864x432 with 1 Axes>"
      ]
     },
     "metadata": {
      "needs_background": "light"
     },
     "output_type": "display_data"
    }
   ],
   "source": [
    "plt_1 = plt.figure(figsize= (12,6))\n",
    "sns.countplot(x = df['Educational_level'] )"
   ]
  },
  {
   "cell_type": "code",
   "execution_count": 24,
   "metadata": {},
   "outputs": [
    {
     "data": {
      "text/plain": [
       "<AxesSubplot:xlabel='Weather_conditions', ylabel='count'>"
      ]
     },
     "execution_count": 24,
     "metadata": {},
     "output_type": "execute_result"
    },
    {
     "data": {
      "image/png": "[encoded data removed]",
      "text/plain": [
       "<Figure size 864x432 with 1 Axes>"
      ]
     },
     "metadata": {
      "needs_background": "light"
     },
     "output_type": "display_data"
    }
   ],
   "source": [
    "plt_1 = plt.figure(figsize= (12,6))\n",
    "sns.countplot(x = df['Weather_conditions'] )"
   ]
  },
  {
   "cell_type": "code",
   "execution_count": 25,
   "metadata": {},
   "outputs": [
    {
     "data": {
      "text/plain": [
       "<AxesSubplot:xlabel='Road_surface_type', ylabel='count'>"
      ]
     },
     "execution_count": 25,
     "metadata": {},
     "output_type": "execute_result"
    },
    {
     "data": {
      "image/png": "[encoded data removed]",
      "text/plain": [
       "<Figure size 1152x720 with 1 Axes>"
      ]
     },
     "metadata": {
      "needs_background": "light"
     },
     "output_type": "display_data"
    }
   ],
   "source": [
    "plt_1 = plt.figure(figsize= (16,10))\n",
    "sns.countplot(x = df['Road_surface_type'] )"
   ]
  },
  {
   "cell_type": "code",
   "execution_count": 26,
   "metadata": {},
   "outputs": [
    {
     "data": {
      "text/plain": [
       "<AxesSubplot:xlabel='Age_band_of_driver', ylabel='Count'>"
      ]
     },
     "execution_count": 26,
     "metadata": {},
     "output_type": "execute_result"
    },
    {
     "data": {
      "image/png": "[encoded data removed]",
      "text/plain": [
       "<Figure size 432x288 with 1 Axes>"
      ]
     },
     "metadata": {
      "needs_background": "light"
     },
     "output_type": "display_data"
    }
   ],
   "source": [
    "sns.histplot(df['Age_band_of_driver'])"
   ]
  },
  {
   "cell_type": "code",
   "execution_count": 27,
   "metadata": {},
   "outputs": [
    {
     "data": {
      "text/plain": [
       "18-30       4271\n",
       "31-50       4087\n",
       "Over 51     1585\n",
       "Unknown     1548\n",
       "Under 18     825\n",
       "Name: Age_band_of_driver, dtype: int64"
      ]
     },
     "execution_count": 27,
     "metadata": {},
     "output_type": "execute_result"
    }
   ],
   "source": [
    "df.Age_band_of_driver.value_counts()"
   ]
  },
  {
   "cell_type": "code",
   "execution_count": 28,
   "metadata": {},
   "outputs": [
    {
     "data": {
      "image/png": "[encoded data removed]",
      "text/plain": [
       "<Figure size 432x288 with 1 Axes>"
      ]
     },
     "metadata": {
      "needs_background": "light"
     },
     "output_type": "display_data"
    }
   ],
   "source": [
    "y = df['Driving_experience'].value_counts()\n",
    "x = ['1-2yr', 'Above 10yr', '5-10yr', '2-5yr', 'Unknown', 'No Licence',\n",
    "       'Below 1yr', 'unknown']\n",
    "plt.title('Drivers Experience with Vehicle Data ')\n",
    "plt.xlabel('Frequency')\n",
    "plt.ylabel('Driving Experience')\n",
    "plt.barh(x, y)\n",
    "plt.show()"
   ]
  },
  {
   "cell_type": "code",
   "execution_count": 29,
   "metadata": {},
   "outputs": [
    {
     "data": {
      "image/png": "[encoded data removed]",
      "text/plain": [
       "<Figure size 1008x720 with 1 Axes>"
      ]
     },
     "metadata": {
      "needs_background": "light"
     },
     "output_type": "display_data"
    }
   ],
   "source": [
    "y = df['Cause_of_accident'].value_counts()\n",
    "x = ['Moving Backward', 'Overtaking', 'Changing lane to the left',\n",
    "       'Changing lane to the right', 'Overloading', 'Other',\n",
    "       'No priority to vehicle', 'No priority to pedestrian',\n",
    "       'No distancing', 'Getting off the vehicle improperly',\n",
    "       'Improper parking', 'Overspeed', 'Driving carelessly',\n",
    "       'Driving at high speed', 'Driving to the left', 'Unknown',\n",
    "       'Overturning', 'Turnover', 'Driving under the influence of drugs',\n",
    "       'Drunk driving']\n",
    "\n",
    "plt_1 = plt.figure(figsize= (14,10))\n",
    "\n",
    "plt.title('Cause of Accidental Cases')\n",
    "plt.xlabel('Frequency')\n",
    "plt.ylabel('Causes')\n",
    "plt.barh(x, y, color='red')\n",
    "plt.show()"
   ]
  },
  {
   "cell_type": "code",
   "execution_count": 30,
   "metadata": {},
   "outputs": [
    {
     "data": {
      "image/png": "[encoded data removed]",
      "text/plain": [
       "<Figure size 432x288 with 1 Axes>"
      ]
     },
     "metadata": {
      "needs_background": "light"
     },
     "output_type": "display_data"
    }
   ],
   "source": [
    "y = df['Type_of_collision'].value_counts()\n",
    "x = ['Collision with roadside-parked vehicles',\n",
    "       'Vehicle with vehicle collision',\n",
    "       'Collision with roadside objects', 'Collision with animals',\n",
    "       'Other', 'Rollover', 'Fall from vehicles',\n",
    "       'Collision with pedestrians', 'With Train', 'Unknown']\n",
    "plt.title('Accidental Cases by vehicle')\n",
    "plt.xlabel('Frequency')\n",
    "plt.ylabel('Type of collision')\n",
    "plt.barh(x, y)\n",
    "plt.show()"
   ]
  },
  {
   "cell_type": "code",
   "execution_count": 31,
   "metadata": {},
   "outputs": [
    {
     "data": {
      "text/html": [
       "<div>\n",
       "<style scoped>\n",
       "    .dataframe tbody tr th:only-of-type {\n",
       "        vertical-align: middle;\n",
       "    }\n",
       "\n",
       "    .dataframe tbody tr th {\n",
       "        vertical-align: top;\n",
       "    }\n",
       "\n",
       "    .dataframe thead th {\n",
       "        text-align: right;\n",
       "    }\n",
       "</style>\n",
       "<table border=\"1\" class=\"dataframe\">\n",
       "  <thead>\n",
       "    <tr style=\"text-align: right;\">\n",
       "      <th></th>\n",
       "      <th>Age_band_of_driver</th>\n",
       "      <th>Sex_of_driver</th>\n",
       "      <th>Educational_level</th>\n",
       "      <th>Vehicle_driver_relation</th>\n",
       "      <th>Driving_experience</th>\n",
       "      <th>Lanes_or_Medians</th>\n",
       "      <th>Types_of_Junction</th>\n",
       "      <th>Road_surface_type</th>\n",
       "      <th>Light_conditions</th>\n",
       "      <th>Weather_conditions</th>\n",
       "      <th>Type_of_collision</th>\n",
       "      <th>Vehicle_movement</th>\n",
       "      <th>Pedestrian_movement</th>\n",
       "      <th>Cause_of_accident</th>\n",
       "      <th>Accident_severity</th>\n",
       "    </tr>\n",
       "  </thead>\n",
       "  <tbody>\n",
       "    <tr>\n",
       "      <th>0</th>\n",
       "      <td>18-30</td>\n",
       "      <td>Male</td>\n",
       "      <td>Above high school</td>\n",
       "      <td>Employee</td>\n",
       "      <td>1-2yr</td>\n",
       "      <td>Unknown</td>\n",
       "      <td>No junction</td>\n",
       "      <td>Asphalt roads</td>\n",
       "      <td>Daylight</td>\n",
       "      <td>Normal</td>\n",
       "      <td>Collision with roadside-parked vehicles</td>\n",
       "      <td>Going straight</td>\n",
       "      <td>Not a Pedestrian</td>\n",
       "      <td>Moving Backward</td>\n",
       "      <td>2</td>\n",
       "    </tr>\n",
       "    <tr>\n",
       "      <th>1</th>\n",
       "      <td>31-50</td>\n",
       "      <td>Male</td>\n",
       "      <td>Junior high school</td>\n",
       "      <td>Employee</td>\n",
       "      <td>Above 10yr</td>\n",
       "      <td>Undivided Two way</td>\n",
       "      <td>No junction</td>\n",
       "      <td>Asphalt roads</td>\n",
       "      <td>Daylight</td>\n",
       "      <td>Normal</td>\n",
       "      <td>Vehicle with vehicle collision</td>\n",
       "      <td>Going straight</td>\n",
       "      <td>Not a Pedestrian</td>\n",
       "      <td>Overtaking</td>\n",
       "      <td>2</td>\n",
       "    </tr>\n",
       "    <tr>\n",
       "      <th>2</th>\n",
       "      <td>18-30</td>\n",
       "      <td>Male</td>\n",
       "      <td>Junior high school</td>\n",
       "      <td>Employee</td>\n",
       "      <td>1-2yr</td>\n",
       "      <td>other</td>\n",
       "      <td>No junction</td>\n",
       "      <td>Asphalt roads</td>\n",
       "      <td>Daylight</td>\n",
       "      <td>Normal</td>\n",
       "      <td>Collision with roadside objects</td>\n",
       "      <td>Going straight</td>\n",
       "      <td>Not a Pedestrian</td>\n",
       "      <td>Changing lane to the left</td>\n",
       "      <td>1</td>\n",
       "    </tr>\n",
       "    <tr>\n",
       "      <th>3</th>\n",
       "      <td>18-30</td>\n",
       "      <td>Male</td>\n",
       "      <td>Junior high school</td>\n",
       "      <td>Employee</td>\n",
       "      <td>5-10yr</td>\n",
       "      <td>other</td>\n",
       "      <td>Y Shape</td>\n",
       "      <td>Earth roads</td>\n",
       "      <td>Darkness - lights lit</td>\n",
       "      <td>Normal</td>\n",
       "      <td>Vehicle with vehicle collision</td>\n",
       "      <td>Going straight</td>\n",
       "      <td>Not a Pedestrian</td>\n",
       "      <td>Changing lane to the right</td>\n",
       "      <td>2</td>\n",
       "    </tr>\n",
       "    <tr>\n",
       "      <th>4</th>\n",
       "      <td>18-30</td>\n",
       "      <td>Male</td>\n",
       "      <td>Junior high school</td>\n",
       "      <td>Employee</td>\n",
       "      <td>2-5yr</td>\n",
       "      <td>other</td>\n",
       "      <td>Y Shape</td>\n",
       "      <td>Asphalt roads</td>\n",
       "      <td>Darkness - lights lit</td>\n",
       "      <td>Normal</td>\n",
       "      <td>Vehicle with vehicle collision</td>\n",
       "      <td>Going straight</td>\n",
       "      <td>Not a Pedestrian</td>\n",
       "      <td>Overtaking</td>\n",
       "      <td>2</td>\n",
       "    </tr>\n",
       "  </tbody>\n",
       "</table>\n",
       "</div>"
      ],
      "text/plain": [
       "  Age_band_of_driver Sex_of_driver   Educational_level  \\\n",
       "0              18-30          Male   Above high school   \n",
       "1              31-50          Male  Junior high school   \n",
       "2              18-30          Male  Junior high school   \n",
       "3              18-30          Male  Junior high school   \n",
       "4              18-30          Male  Junior high school   \n",
       "\n",
       "  Vehicle_driver_relation Driving_experience   Lanes_or_Medians  \\\n",
       "0                Employee              1-2yr            Unknown   \n",
       "1                Employee         Above 10yr  Undivided Two way   \n",
       "2                Employee              1-2yr              other   \n",
       "3                Employee             5-10yr              other   \n",
       "4                Employee              2-5yr              other   \n",
       "\n",
       "  Types_of_Junction Road_surface_type       Light_conditions  \\\n",
       "0       No junction     Asphalt roads               Daylight   \n",
       "1       No junction     Asphalt roads               Daylight   \n",
       "2       No junction     Asphalt roads               Daylight   \n",
       "3           Y Shape       Earth roads  Darkness - lights lit   \n",
       "4           Y Shape     Asphalt roads  Darkness - lights lit   \n",
       "\n",
       "  Weather_conditions                        Type_of_collision  \\\n",
       "0             Normal  Collision with roadside-parked vehicles   \n",
       "1             Normal           Vehicle with vehicle collision   \n",
       "2             Normal          Collision with roadside objects   \n",
       "3             Normal           Vehicle with vehicle collision   \n",
       "4             Normal           Vehicle with vehicle collision   \n",
       "\n",
       "  Vehicle_movement Pedestrian_movement           Cause_of_accident  \\\n",
       "0   Going straight    Not a Pedestrian             Moving Backward   \n",
       "1   Going straight    Not a Pedestrian                  Overtaking   \n",
       "2   Going straight    Not a Pedestrian   Changing lane to the left   \n",
       "3   Going straight    Not a Pedestrian  Changing lane to the right   \n",
       "4   Going straight    Not a Pedestrian                  Overtaking   \n",
       "\n",
       "   Accident_severity  \n",
       "0                  2  \n",
       "1                  2  \n",
       "2                  1  \n",
       "3                  2  \n",
       "4                  2  "
      ]
     },
     "execution_count": 31,
     "metadata": {},
     "output_type": "execute_result"
    }
   ],
   "source": [
    "df.head()"
   ]
  },
  {
   "cell_type": "markdown",
   "metadata": {},
   "source": [
    "------------------------------------- Label Encoding ------------------------------------"
   ]
  },
  {
   "cell_type": "code",
   "execution_count": 32,
   "metadata": {},
   "outputs": [],
   "source": [
    "# Import label encoder\n",
    "from sklearn import preprocessing\n",
    "\n",
    "# label_encoder object knows how to understand word labels.\n",
    "label_encoder = preprocessing.LabelEncoder()\n",
    "\n",
    "# Encode labels in column 'Age_band_of_driver'.\n",
    "df1 = pd.Series(label_encoder.fit_transform(df['Age_band_of_driver']))\n",
    "\n",
    "df.iloc[: , 0:1] = df1\n"
   ]
  },
  {
   "cell_type": "code",
   "execution_count": 33,
   "metadata": {},
   "outputs": [],
   "source": [
    "# Encode labels in column 'Sex_of_driver'.\n",
    "df2 = pd.Series(label_encoder.fit_transform(df['Sex_of_driver']))\n",
    "\n",
    "df.iloc[: , 1:2] = df2"
   ]
  },
  {
   "cell_type": "code",
   "execution_count": 34,
   "metadata": {},
   "outputs": [],
   "source": [
    "# Encode labels in column 'Educational_level'.\n",
    "df3 = pd.Series(label_encoder.fit_transform(df['Educational_level']))\n",
    "\n",
    "df.iloc[: , 2:3] = df3\n"
   ]
  },
  {
   "cell_type": "code",
   "execution_count": 35,
   "metadata": {},
   "outputs": [],
   "source": [
    "# Encode labels in column 'Vehicle_driver_relation'.\n",
    "df4 = pd.Series(label_encoder.fit_transform(df['Vehicle_driver_relation']))\n",
    "\n",
    "df.iloc[: , 3:4] = df4"
   ]
  },
  {
   "cell_type": "code",
   "execution_count": 36,
   "metadata": {},
   "outputs": [],
   "source": [
    "# Encode labels in column 'Driving_experience'.\n",
    "df4 = pd.Series(label_encoder.fit_transform(df['Driving_experience']))\n",
    "\n",
    "df.iloc[: , 4:5] = df4"
   ]
  },
  {
   "cell_type": "code",
   "execution_count": 37,
   "metadata": {},
   "outputs": [],
   "source": [
    "# Encode labels in column 'Lanes_or_Medians'.\n",
    "df5 = pd.Series(label_encoder.fit_transform(df['Lanes_or_Medians']))\n",
    "\n",
    "df.iloc[: , 5:6] = df5"
   ]
  },
  {
   "cell_type": "code",
   "execution_count": 38,
   "metadata": {},
   "outputs": [],
   "source": [
    "# Encode labels in column 'Types_of_Junction'.\n",
    "df6 = pd.Series(label_encoder.fit_transform(df['Types_of_Junction']))\n",
    "\n",
    "df.iloc[: , 6:7] = df6"
   ]
  },
  {
   "cell_type": "code",
   "execution_count": 39,
   "metadata": {},
   "outputs": [],
   "source": [
    "# Encode labels in column 'Road_surface_type'.\n",
    "df7 = pd.Series(label_encoder.fit_transform(df['Road_surface_type']))\n",
    "\n",
    "df.iloc[: , 7:8] = df7"
   ]
  },
  {
   "cell_type": "code",
   "execution_count": 40,
   "metadata": {},
   "outputs": [],
   "source": [
    "# Encode labels in column 'Light_conditions'.\n",
    "df8 = pd.Series(label_encoder.fit_transform(df['Light_conditions']))\n",
    "\n",
    "df.iloc[: , 8:9] = df8"
   ]
  },
  {
   "cell_type": "code",
   "execution_count": 41,
   "metadata": {},
   "outputs": [],
   "source": [
    "# Encode labels in column 'Weather_conditions'.\n",
    "df9 = pd.Series(label_encoder.fit_transform(df['Weather_conditions']))\n",
    "\n",
    "df.iloc[: , 9:10] = df9"
   ]
  },
  {
   "cell_type": "code",
   "execution_count": 42,
   "metadata": {},
   "outputs": [],
   "source": [
    "# Encode labels in column 'Type_of_collision'.\n",
    "df10 = pd.Series(label_encoder.fit_transform(df['Type_of_collision']))\n",
    "\n",
    "df.iloc[: , 10:11] = df10"
   ]
  },
  {
   "cell_type": "code",
   "execution_count": 43,
   "metadata": {},
   "outputs": [],
   "source": [
    "# Encode labels in column 'Vehicle_movement'.\n",
    "df11 = pd.Series(label_encoder.fit_transform(df['Vehicle_movement']))\n",
    "\n",
    "df.iloc[: , 11:12] = df11"
   ]
  },
  {
   "cell_type": "code",
   "execution_count": 44,
   "metadata": {},
   "outputs": [],
   "source": [
    "# Encode labels in column 'Pedestrian_movement'.\n",
    "df12 = pd.Series(label_encoder.fit_transform(df['Pedestrian_movement']))\n",
    "\n",
    "df.iloc[: , 12:13] = df12"
   ]
  },
  {
   "cell_type": "code",
   "execution_count": 45,
   "metadata": {},
   "outputs": [],
   "source": [
    "# Encode labels in column 'Cause_of_accident'.\n",
    "df13 = pd.Series(label_encoder.fit_transform(df['Cause_of_accident']))\n",
    "\n",
    "df.iloc[: , 13:14] = df13"
   ]
  },
  {
   "cell_type": "code",
   "execution_count": 46,
   "metadata": {},
   "outputs": [
    {
     "data": {
      "text/html": [
       "<div>\n",
       "<style scoped>\n",
       "    .dataframe tbody tr th:only-of-type {\n",
       "        vertical-align: middle;\n",
       "    }\n",
       "\n",
       "    .dataframe tbody tr th {\n",
       "        vertical-align: top;\n",
       "    }\n",
       "\n",
       "    .dataframe thead th {\n",
       "        text-align: right;\n",
       "    }\n",
       "</style>\n",
       "<table border=\"1\" class=\"dataframe\">\n",
       "  <thead>\n",
       "    <tr style=\"text-align: right;\">\n",
       "      <th></th>\n",
       "      <th>Age_band_of_driver</th>\n",
       "      <th>Sex_of_driver</th>\n",
       "      <th>Educational_level</th>\n",
       "      <th>Vehicle_driver_relation</th>\n",
       "      <th>Driving_experience</th>\n",
       "      <th>Lanes_or_Medians</th>\n",
       "      <th>Types_of_Junction</th>\n",
       "      <th>Road_surface_type</th>\n",
       "      <th>Light_conditions</th>\n",
       "      <th>Weather_conditions</th>\n",
       "      <th>Type_of_collision</th>\n",
       "      <th>Vehicle_movement</th>\n",
       "      <th>Pedestrian_movement</th>\n",
       "      <th>Cause_of_accident</th>\n",
       "      <th>Accident_severity</th>\n",
       "    </tr>\n",
       "  </thead>\n",
       "  <tbody>\n",
       "    <tr>\n",
       "      <th>12311</th>\n",
       "      <td>1</td>\n",
       "      <td>1</td>\n",
       "      <td>5</td>\n",
       "      <td>0</td>\n",
       "      <td>1</td>\n",
       "      <td>4</td>\n",
       "      <td>1</td>\n",
       "      <td>0</td>\n",
       "      <td>3</td>\n",
       "      <td>2</td>\n",
       "      <td>8</td>\n",
       "      <td>2</td>\n",
       "      <td>5</td>\n",
       "      <td>10</td>\n",
       "      <td>2</td>\n",
       "    </tr>\n",
       "    <tr>\n",
       "      <th>12312</th>\n",
       "      <td>4</td>\n",
       "      <td>1</td>\n",
       "      <td>1</td>\n",
       "      <td>0</td>\n",
       "      <td>2</td>\n",
       "      <td>2</td>\n",
       "      <td>1</td>\n",
       "      <td>0</td>\n",
       "      <td>3</td>\n",
       "      <td>2</td>\n",
       "      <td>8</td>\n",
       "      <td>4</td>\n",
       "      <td>5</td>\n",
       "      <td>10</td>\n",
       "      <td>2</td>\n",
       "    </tr>\n",
       "    <tr>\n",
       "      <th>12313</th>\n",
       "      <td>2</td>\n",
       "      <td>1</td>\n",
       "      <td>4</td>\n",
       "      <td>0</td>\n",
       "      <td>2</td>\n",
       "      <td>2</td>\n",
       "      <td>1</td>\n",
       "      <td>0</td>\n",
       "      <td>3</td>\n",
       "      <td>2</td>\n",
       "      <td>8</td>\n",
       "      <td>4</td>\n",
       "      <td>5</td>\n",
       "      <td>1</td>\n",
       "      <td>1</td>\n",
       "    </tr>\n",
       "    <tr>\n",
       "      <th>12314</th>\n",
       "      <td>0</td>\n",
       "      <td>0</td>\n",
       "      <td>4</td>\n",
       "      <td>0</td>\n",
       "      <td>3</td>\n",
       "      <td>4</td>\n",
       "      <td>1</td>\n",
       "      <td>0</td>\n",
       "      <td>0</td>\n",
       "      <td>2</td>\n",
       "      <td>8</td>\n",
       "      <td>4</td>\n",
       "      <td>5</td>\n",
       "      <td>5</td>\n",
       "      <td>2</td>\n",
       "    </tr>\n",
       "    <tr>\n",
       "      <th>12315</th>\n",
       "      <td>0</td>\n",
       "      <td>1</td>\n",
       "      <td>4</td>\n",
       "      <td>0</td>\n",
       "      <td>2</td>\n",
       "      <td>4</td>\n",
       "      <td>2</td>\n",
       "      <td>0</td>\n",
       "      <td>0</td>\n",
       "      <td>2</td>\n",
       "      <td>8</td>\n",
       "      <td>8</td>\n",
       "      <td>1</td>\n",
       "      <td>1</td>\n",
       "      <td>2</td>\n",
       "    </tr>\n",
       "  </tbody>\n",
       "</table>\n",
       "</div>"
      ],
      "text/plain": [
       "       Age_band_of_driver  Sex_of_driver  Educational_level  \\\n",
       "12311                   1              1                  5   \n",
       "12312                   4              1                  1   \n",
       "12313                   2              1                  4   \n",
       "12314                   0              0                  4   \n",
       "12315                   0              1                  4   \n",
       "\n",
       "       Vehicle_driver_relation  Driving_experience  Lanes_or_Medians  \\\n",
       "12311                        0                   1                 4   \n",
       "12312                        0                   2                 2   \n",
       "12313                        0                   2                 2   \n",
       "12314                        0                   3                 4   \n",
       "12315                        0                   2                 4   \n",
       "\n",
       "       Types_of_Junction  Road_surface_type  Light_conditions  \\\n",
       "12311                  1                  0                 3   \n",
       "12312                  1                  0                 3   \n",
       "12313                  1                  0                 3   \n",
       "12314                  1                  0                 0   \n",
       "12315                  2                  0                 0   \n",
       "\n",
       "       Weather_conditions  Type_of_collision  Vehicle_movement  \\\n",
       "12311                   2                  8                 2   \n",
       "12312                   2                  8                 4   \n",
       "12313                   2                  8                 4   \n",
       "12314                   2                  8                 4   \n",
       "12315                   2                  8                 8   \n",
       "\n",
       "       Pedestrian_movement  Cause_of_accident  Accident_severity  \n",
       "12311                    5                 10                  2  \n",
       "12312                    5                 10                  2  \n",
       "12313                    5                  1                  1  \n",
       "12314                    5                  5                  2  \n",
       "12315                    1                  1                  2  "
      ]
     },
     "execution_count": 46,
     "metadata": {},
     "output_type": "execute_result"
    }
   ],
   "source": [
    "df.tail()"
   ]
  }
 ],
 "metadata": {
  "kernelspec": {
   "display_name": "Python 3.10.2 64-bit",
   "language": "python",
   "name": "python3"
  },
  "language_info": {
   "codemirror_mode": {
    "name": "ipython",
    "version": 3
   },
   "file_extension": ".py",
   "mimetype": "text/x-python",
   "name": "python",
   "nbconvert_exporter": "python",
   "pygments_lexer": "ipython3",
   "version": "3.10.2"
  },
  "orig_nbformat": 4,
  "vscode": {
   "interpreter": {
    "hash": "ea928f5d67c4c93314bde902f9925b00b35f33a7a7fd46f2f8b2a0108e4de065"
   }
  }
 },
 "nbformat": 4,
 "nbformat_minor": 2
}
